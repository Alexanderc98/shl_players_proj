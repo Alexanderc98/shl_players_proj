{
 "cells": [
  {
   "cell_type": "code",
   "execution_count": 2,
   "metadata": {},
   "outputs": [],
   "source": [
    "#Importing the packages i need for webscraping\n",
    "from bs4 import BeautifulSoup\n",
    "import pandas as pd\n",
    "import requests"
   ]
  },
  {
   "cell_type": "code",
   "execution_count": 17,
   "metadata": {},
   "outputs": [],
   "source": [
    "#I want to research player statistics for the 2021/2022 SHL season.\n",
    "url = \"https://www.shl.se/statistik/tabell?season=2021&gameType=regular\"\n",
    "all_players = [] #In this list i will gather all the teamstatistics"
   ]
  },
  {
   "cell_type": "code",
   "execution_count": 18,
   "metadata": {},
   "outputs": [
    {
     "name": "stdout",
     "output_type": "stream",
     "text": [
      "['http://shl.se/lag/ee93-ee93uy4oW/statistics', 'http://shl.se/lag/1a71-1a71gTHKh/statistics', 'http://shl.se/lag/50e6-50e6DYeWM/statistics', 'http://shl.se/lag/087a-087aTQv9u/statistics', 'http://shl.se/lag/fe02-fe02mf1FN/statistics', 'http://shl.se/lag/752c-752c12zB7Z/statistics', 'http://shl.se/lag/82eb-82ebmgaJ8/statistics', 'http://shl.se/lag/9541-95418PpkP/statistics', 'http://shl.se/lag/259b-259bYGVIp/statistics', 'http://shl.se/lag/1ab8-1ab8bfj7N/statistics', 'http://shl.se/lag/41c4-41c4BiYZU/statistics', 'http://shl.se/lag/8e6f-8e6fUXJvi/statistics', 'http://shl.se/lag/2459-2459QTs1f/statistics', 'http://shl.se/lag/31d1-31d1NbSlR/statistics']\n"
     ]
    }
   ],
   "source": [
    "#Getting all the urls for the different SHL teams.\n",
    "data = requests.get(url)\n",
    "soup = BeautifulSoup(data.text)\n",
    "standings_table = soup.select('table.rmss_t-stat-table')[0] #html tag is table, after the dot comes table name\n",
    "\n",
    "links = [l.get(\"href\") for l in standings_table.find_all('a')]\n",
    "links = [l for l in links if '/lag/' in l]\n",
    "team_urls = [f\"http://shl.se{l}/statistics\" for l in links] #Adding statistics after because thats the page i want\n",
    "#access to.\n",
    "\n",
    "print(team_urls)"
   ]
  },
  {
   "cell_type": "code",
   "execution_count": null,
   "metadata": {},
   "outputs": [],
   "source": [
    "#Now as you can see above we got all the different team links.\n",
    "import time\n",
    "#Getting all the statistics i want in this loop:\n",
    "for team_url in team_urls:\n",
    "    data = requests.get(team_url)\n",
    "    soup = BeautifulSoup(data.text)\n",
    "    team_name = soup.select('header.rmss_c-squad__team-header-name-h')[0] #I want the team name for my dataframe\n",
    "    team_name = team_name.string #How to get the text between the tags out.\n",
    "    players = pd.read_html(data.text, match=\"Spelare\")[0] #Letting pandas figure out how to pull the whole statistics \n",
    "    #table from the site\n",
    "    player_data = players\n",
    "    player_data['team'] = team_name #Adding the team name to the dataframe\n",
    "    all_players.append(player_data)\n",
    "    time.sleep(2) #Using time.sleep to be nice to the site"
   ]
  },
  {
   "cell_type": "code",
   "execution_count": null,
   "metadata": {},
   "outputs": [],
   "source": [
    "df = pd.concat(all_players) #Making the list into one big dataframe\n",
    "df.columns = [c.lower() for c in df.columns] #Making all the columns be in lowcaps.\n",
    "df.to_csv(\"players.csv\", index=False) #Exporting to csv-file for further manipulation in R"
   ]
  }
 ],
 "metadata": {
  "interpreter": {
   "hash": "cbc2632199ecbffe8e30de3c73742e8a6199992cbb2fea27c385f3cbcc777c77"
  },
  "kernelspec": {
   "display_name": "Python 3.7.9 64-bit",
   "language": "python",
   "name": "python3"
  },
  "language_info": {
   "codemirror_mode": {
    "name": "ipython",
    "version": 3
   },
   "file_extension": ".py",
   "mimetype": "text/x-python",
   "name": "python",
   "nbconvert_exporter": "python",
   "pygments_lexer": "ipython3",
   "version": "3.7.9"
  },
  "orig_nbformat": 4
 },
 "nbformat": 4,
 "nbformat_minor": 2
}
